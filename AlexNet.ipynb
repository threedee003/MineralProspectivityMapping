{
  "nbformat": 4,
  "nbformat_minor": 0,
  "metadata": {
    "colab": {
      "provenance": [],
      "authorship_tag": "ABX9TyOMiaM6Eba8mv5KZuZWUAIv",
      "include_colab_link": true
    },
    "kernelspec": {
      "name": "python3",
      "display_name": "Python 3"
    },
    "language_info": {
      "name": "python"
    },
    "gpuClass": "standard",
    "accelerator": "GPU"
  },
  "cells": [
    {
      "cell_type": "markdown",
      "metadata": {
        "id": "view-in-github",
        "colab_type": "text"
      },
      "source": [
        "<a href=\"https://colab.research.google.com/github/threedee003/MineralProspectivityMapping/blob/main/AlexNet.ipynb\" target=\"_parent\"><img src=\"https://colab.research.google.com/assets/colab-badge.svg\" alt=\"Open In Colab\"/></a>"
      ]
    },
    {
      "cell_type": "code",
      "execution_count": 1,
      "metadata": {
        "id": "9h2o4RQvTWOw",
        "colab": {
          "base_uri": "https://localhost:8080/"
        },
        "outputId": "a379472b-f07e-4fa2-9e20-bff7a359a57d"
      },
      "outputs": [
        {
          "output_type": "stream",
          "name": "stdout",
          "text": [
            "Drive already mounted at /content/drive; to attempt to forcibly remount, call drive.mount(\"/content/drive\", force_remount=True).\n"
          ]
        }
      ],
      "source": [
        "from google.colab import drive\n",
        "drive.mount('/content/drive')"
      ]
    },
    {
      "cell_type": "code",
      "source": [
        "trainDir = \"/content/drive/MyDrive/GIS/trainTiles\"\n",
        "testDir = \"/content/drive/MyDrive/GIS/testTiles\""
      ],
      "metadata": {
        "id": "_cvvaZxBvHgw"
      },
      "execution_count": 2,
      "outputs": []
    },
    {
      "cell_type": "code",
      "source": [
        "\n",
        "import numpy as np\n",
        "import matplotlib.pyplot as plt\n",
        "import os\n",
        "import skimage.io as io\n",
        "import time\n",
        "from itertools import product\n",
        "\n",
        "\n",
        "\n",
        "import torch.nn as nn\n",
        "import torch\n",
        "import torch.optim as optim\n",
        "from torchsummary import summary\n",
        "from torch.utils.data import Dataset\n",
        "from torchvision.transforms import transforms\n",
        "import torch.nn.functional as F"
      ],
      "metadata": {
        "id": "nMRNA6IgaLo_"
      },
      "execution_count": 3,
      "outputs": []
    },
    {
      "cell_type": "code",
      "source": [
        "\n",
        "class CustomDataset(Dataset):\n",
        "    def __init__(self, data_dir, transform1 = None, transform2 = None):\n",
        "        self.data_dir = data_dir\n",
        "        self.transform1 = transform1\n",
        "        self.transform2 = transform2\n",
        "        self.imageFilenames = sorted(os.listdir(os.path.join(data_dir, \"tiles\")))\n",
        "\n",
        "    def __len__(self):\n",
        "        return len(self.imageFilenames)\n",
        "\n",
        "    def __getitem__(self, idx):\n",
        "        imagePath = os.path.join(self.data_dir, \"tiles\", self.imageFilenames[idx])\n",
        "        img = np.load(imagePath)\n",
        "        X = img[:,:,0:5]\n",
        "        if np.unique(img[:,:,-1]).shape[0] == 2:\n",
        "          Y = np.array(1)\n",
        "        else:\n",
        "          Y = np.array(0)\n",
        "        Y = np.reshape(Y,(1,1))\n",
        "        #Y = img[:,:,-1]\n",
        "\n",
        "\n",
        "        \n",
        "\n",
        "        if self.transform1:\n",
        "            X = self.transform1(X)\n",
        "        \n",
        "        if self.transform2:\n",
        "          Y = self.transform2(Y)\n",
        "\n",
        "        return X, Y\n"
      ],
      "metadata": {
        "id": "a4IMKIJoLWSL"
      },
      "execution_count": 4,
      "outputs": []
    },
    {
      "cell_type": "code",
      "source": [
        "transform = transforms.Compose([\n",
        "    transforms.ToTensor(),\n",
        "    transforms.Normalize((0.5, 0.5, 0.5,0.5,0.5), (0.5,0.5,0.5, 0.5, 0.5))\n",
        "])\n",
        "transform2 = transforms.Compose([\n",
        "    transforms.ToTensor(),\n",
        "])"
      ],
      "metadata": {
        "id": "c226ZLD4XTat"
      },
      "execution_count": 5,
      "outputs": []
    },
    {
      "cell_type": "code",
      "source": [
        "trainSet = CustomDataset(trainDir, transform1 = transform,transform2 = transform2)\n",
        "validationSet = CustomDataset(testDir, transform1 = transform, transform2 = transform2)\n",
        "\n",
        "trainLoader = torch.utils.data.DataLoader(trainSet, batch_size=32, shuffle=True)\n",
        "validationLoader = torch.utils.data.DataLoader(validationSet, batch_size = 32, shuffle = True)"
      ],
      "metadata": {
        "id": "2OD0pDzgXTYF"
      },
      "execution_count": 12,
      "outputs": []
    },
    {
      "cell_type": "code",
      "source": [
        "print(\"Number of training samples : {}\".format(len(trainLoader)))\n",
        "print(\"Number of validating samples : {}\".format(len(validationLoader)))"
      ],
      "metadata": {
        "colab": {
          "base_uri": "https://localhost:8080/"
        },
        "id": "rNAe2EhjvgYx",
        "outputId": "9b3d874e-223a-45e8-e15b-0dfce6731d83"
      },
      "execution_count": 13,
      "outputs": [
        {
          "output_type": "stream",
          "name": "stdout",
          "text": [
            "Number of training samples : 35\n",
            "Number of validating samples : 14\n"
          ]
        }
      ]
    },
    {
      "cell_type": "code",
      "source": [
        "for i,j in trainLoader:\n",
        "  print(j.resize_(1))\n",
        "  print(j)\n",
        "  break"
      ],
      "metadata": {
        "colab": {
          "base_uri": "https://localhost:8080/"
        },
        "id": "dasMiO0NcwD5",
        "outputId": "6b5ef4e6-860c-462c-ce2b-faed52fa45ea"
      },
      "execution_count": 14,
      "outputs": [
        {
          "output_type": "stream",
          "name": "stdout",
          "text": [
            "tensor([0])\n",
            "tensor([0])\n"
          ]
        }
      ]
    },
    {
      "cell_type": "code",
      "source": [
        "class AlexNet(torch.nn.Module):\n",
        "\n",
        "    def __init__(self, num_classes):\n",
        "        super().__init__()\n",
        "        self.features = torch.nn.Sequential(\n",
        "            torch.nn.Conv2d(5, 64, kernel_size=11, stride=4, padding=2),\n",
        "            torch.nn.ReLU(inplace=True),\n",
        "            torch.nn.MaxPool2d(kernel_size=3, stride=2),\n",
        "            torch.nn.Conv2d(64, 192, kernel_size=5, padding=2),\n",
        "            torch.nn.ReLU(inplace=True),\n",
        "            torch.nn.MaxPool2d(kernel_size=3, stride=2),\n",
        "            torch.nn.Conv2d(192, 384, kernel_size=3, padding=1),\n",
        "            torch.nn.ReLU(inplace=True),\n",
        "            torch.nn.Conv2d(384, 256, kernel_size=3, padding=1),\n",
        "            torch.nn.ReLU(inplace=True),\n",
        "            torch.nn.Conv2d(256, 256, kernel_size=3, padding=1),\n",
        "            torch.nn.ReLU(inplace=True),\n",
        "            torch.nn.MaxPool2d(kernel_size=3, stride=2),\n",
        "        )\n",
        "        self.avgpool = torch.nn.AdaptiveAvgPool2d((6, 6))\n",
        "        self.classifier = torch.nn.Sequential(\n",
        "            torch.nn.Dropout(0.5),\n",
        "            torch.nn.Linear(256 * 6 * 6, 4096),\n",
        "            torch.nn.ReLU(inplace=True),\n",
        "            torch.nn.Dropout(0.5),\n",
        "            torch.nn.Linear(4096, 4096),\n",
        "            torch.nn.ReLU(inplace=True),\n",
        "            torch.nn.Linear(4096, num_classes)\n",
        "        )\n",
        "\n",
        "    def forward(self, x):\n",
        "        x = self.features(x)\n",
        "        x = self.avgpool(x)\n",
        "        x = x.view(-1, 256 * 6 * 6)\n",
        "        logits = self.classifier(x)\n",
        "        return F.log_softmax(logits,dim = 1)"
      ],
      "metadata": {
        "id": "Aw-I1W65c9fM"
      },
      "execution_count": 15,
      "outputs": []
    },
    {
      "cell_type": "code",
      "source": [
        "cnn1 = AlexNet(2)"
      ],
      "metadata": {
        "id": "NfD2SYtexkmo"
      },
      "execution_count": 16,
      "outputs": []
    },
    {
      "cell_type": "code",
      "source": [
        "summary(cnn1.to('cuda'),(5,64,64))"
      ],
      "metadata": {
        "colab": {
          "base_uri": "https://localhost:8080/"
        },
        "id": "9EtIpUFp7vlg",
        "outputId": "f06d2651-ee5a-4ff2-ef96-a05e12eb5eef"
      },
      "execution_count": 17,
      "outputs": [
        {
          "output_type": "stream",
          "name": "stdout",
          "text": [
            "----------------------------------------------------------------\n",
            "        Layer (type)               Output Shape         Param #\n",
            "================================================================\n",
            "            Conv2d-1           [-1, 64, 15, 15]          38,784\n",
            "              ReLU-2           [-1, 64, 15, 15]               0\n",
            "         MaxPool2d-3             [-1, 64, 7, 7]               0\n",
            "            Conv2d-4            [-1, 192, 7, 7]         307,392\n",
            "              ReLU-5            [-1, 192, 7, 7]               0\n",
            "         MaxPool2d-6            [-1, 192, 3, 3]               0\n",
            "            Conv2d-7            [-1, 384, 3, 3]         663,936\n",
            "              ReLU-8            [-1, 384, 3, 3]               0\n",
            "            Conv2d-9            [-1, 256, 3, 3]         884,992\n",
            "             ReLU-10            [-1, 256, 3, 3]               0\n",
            "           Conv2d-11            [-1, 256, 3, 3]         590,080\n",
            "             ReLU-12            [-1, 256, 3, 3]               0\n",
            "        MaxPool2d-13            [-1, 256, 1, 1]               0\n",
            "AdaptiveAvgPool2d-14            [-1, 256, 6, 6]               0\n",
            "          Dropout-15                 [-1, 9216]               0\n",
            "           Linear-16                 [-1, 4096]      37,752,832\n",
            "             ReLU-17                 [-1, 4096]               0\n",
            "          Dropout-18                 [-1, 4096]               0\n",
            "           Linear-19                 [-1, 4096]      16,781,312\n",
            "             ReLU-20                 [-1, 4096]               0\n",
            "           Linear-21                    [-1, 2]           8,194\n",
            "================================================================\n",
            "Total params: 57,027,522\n",
            "Trainable params: 57,027,522\n",
            "Non-trainable params: 0\n",
            "----------------------------------------------------------------\n",
            "Input size (MB): 0.08\n",
            "Forward/backward pass size (MB): 0.82\n",
            "Params size (MB): 217.54\n",
            "Estimated Total Size (MB): 218.44\n",
            "----------------------------------------------------------------\n"
          ]
        }
      ]
    },
    {
      "cell_type": "code",
      "source": [
        "def train(model, trainLoader, validationLoader, lossFn, optimizer, epochs, device, trainLosses, valLosses, trainACC, valACC):\n",
        "  startTime = time.time()\n",
        "\n",
        "  print(\"Training has begun.....\")\n",
        "  model = model.to(device)\n",
        "  for epoch in range(epochs):\n",
        "    trainingLoss = 0\n",
        "    trainCorr = 0\n",
        "    totals = 0\n",
        "    model.train()\n",
        "    for img,target in trainLoader:\n",
        "      target = target.resize_(target.size(0))\n",
        "      optimizer.zero_grad()\n",
        "      img = img.to(device)\n",
        "      target = target.to(device)\n",
        "      pred = model(img)\n",
        "      loss = lossFn(pred,target)\n",
        "      loss.backward()\n",
        "      optimizer.step()\n",
        "      trainingLoss += loss.item()*target.size(0)\n",
        "      totals += target.size(0)\n",
        "      predicted = torch.argmax(pred,1)\n",
        "      trainCorr += (predicted == target).sum().item()\n",
        "\n",
        "\n",
        "    validationLoss = 0\n",
        "    validationCorr = 0\n",
        "    total = 0\n",
        "    with torch.no_grad():\n",
        "      for img, target in validationLoader:\n",
        "        target = target.resize_(target.size(0))\n",
        "        img = img.to(device)\n",
        "        target = target.to(device)\n",
        "        pred = model(img)\n",
        "        loss = lossFn(pred,target)\n",
        "        validationLoss += loss.item()*target.size(0)\n",
        "        totals += target.size(0)\n",
        "        predicted = torch.argmax(pred,1)\n",
        "        validationCorr += (predicted == target).sum().item()\n",
        "\n",
        "    \n",
        "    trainAcc = trainCorr/totals*100\n",
        "    valAcc = validationCorr/totals*100\n",
        "    trainLoss = trainingLoss/totals*100\n",
        "    validLoss = validationLoss/totals*100\n",
        "    trainLosses.append(trainLoss)\n",
        "    trainACC.append(trainAcc)\n",
        "    valLosses.append(validLoss)\n",
        "    valACC.append(valAcc)\n",
        "\n",
        "    print(f\"Epoch : {epoch+1}/{epochs}.....Training Loss :{trainLoss}; Training Accuracy :{trainAcc}; Validation Loss :{validLoss}; Validation Accuracy :{valAcc} \")\n",
        "  print(f\"Training is complete...\")\n",
        "  print(\"--%s seconds\" %(time.time()-startTime))\n",
        "\n",
        "\n",
        "\n",
        "\n",
        "\n"
      ],
      "metadata": {
        "id": "RTu6RZpJQ9QT"
      },
      "execution_count": 22,
      "outputs": []
    },
    {
      "cell_type": "code",
      "source": [
        "criterion = nn.NLLLoss()\n",
        "optimizer = optim.Adam(cnn1.parameters(), lr=0.001)\n",
        "batchSize = 4\n",
        "device = torch.device('cuda' if torch.cuda.is_available() else 'cpu')\n",
        "eps = 50\n",
        "trainArr = []\n",
        "validArr = []\n",
        "trainACC = []\n",
        "validACC = []"
      ],
      "metadata": {
        "id": "y3mUQ_3PbUWI"
      },
      "execution_count": 23,
      "outputs": []
    },
    {
      "cell_type": "code",
      "source": [
        "if device.type == 'cuda':\n",
        "    print(torch.cuda.get_device_name(0))\n",
        "    print('Memory Usage:')\n",
        "    print('Allocated:', round(torch.cuda.memory_allocated(0)/1024**3,1), 'GB')\n",
        "    print('Cached:   ', round(torch.cuda.memory_reserved(0)/1024**3,1), 'GB')"
      ],
      "metadata": {
        "id": "XYmsbh0sbpFR",
        "colab": {
          "base_uri": "https://localhost:8080/"
        },
        "outputId": "f1802263-2e47-4cb2-84cb-3cd3bae28326"
      },
      "execution_count": 24,
      "outputs": [
        {
          "output_type": "stream",
          "name": "stdout",
          "text": [
            "Tesla T4\n",
            "Memory Usage:\n",
            "Allocated: 0.2 GB\n",
            "Cached:    0.2 GB\n"
          ]
        }
      ]
    },
    {
      "cell_type": "code",
      "source": [
        "train(cnn1,trainLoader,validationLoader,criterion,optimizer,eps,device,trainArr,validArr,trainACC,validACC)"
      ],
      "metadata": {
        "colab": {
          "base_uri": "https://localhost:8080/"
        },
        "id": "uxlNxeGVcdIH",
        "outputId": "d1be45df-5fc5-4237-9791-47c06015ef35"
      },
      "execution_count": 25,
      "outputs": [
        {
          "output_type": "stream",
          "name": "stdout",
          "text": [
            "Training has begun.....\n",
            "Epoch : 1/50.....Training Loss :21.9842463827286; Training Accuracy :68.14102564102565; Validation Loss :7.405602985467666; Validation Accuracy :26.794871794871796 \n",
            "Epoch : 2/50.....Training Loss :25.97053892337359; Training Accuracy :68.14102564102565; Validation Loss :16.725528521988636; Validation Accuracy :26.794871794871796 \n",
            "Epoch : 3/50.....Training Loss :15.8134219623529; Training Accuracy :68.14102564102565; Validation Loss :9.193133757664606; Validation Accuracy :26.794871794871796 \n",
            "Epoch : 4/50.....Training Loss :16.87156816323598; Training Accuracy :68.14102564102565; Validation Loss :12.483259638150534; Validation Accuracy :26.794871794871796 \n",
            "Epoch : 5/50.....Training Loss :16.045763110503174; Training Accuracy :68.14102564102565; Validation Loss :22.609132551229916; Validation Accuracy :26.794871794871796 \n",
            "Epoch : 6/50.....Training Loss :13.91646766509765; Training Accuracy :68.14102564102565; Validation Loss :15.226411934082323; Validation Accuracy :26.794871794871796 \n",
            "Epoch : 7/50.....Training Loss :19.1777765750885; Training Accuracy :68.14102564102565; Validation Loss :14.686265832338577; Validation Accuracy :26.794871794871796 \n",
            "Epoch : 8/50.....Training Loss :14.678171834884546; Training Accuracy :68.14102564102565; Validation Loss :51.37714315683414; Validation Accuracy :26.794871794871796 \n",
            "Epoch : 9/50.....Training Loss :17.358526847301388; Training Accuracy :68.14102564102565; Validation Loss :16.946944028903278; Validation Accuracy :26.794871794871796 \n",
            "Epoch : 10/50.....Training Loss :19.805798660486175; Training Accuracy :68.14102564102565; Validation Loss :150.1841547397467; Validation Accuracy :26.794871794871796 \n",
            "Epoch : 11/50.....Training Loss :26.578521926242573; Training Accuracy :68.14102564102565; Validation Loss :32.78829494347939; Validation Accuracy :26.794871794871796 \n",
            "Epoch : 12/50.....Training Loss :14.886825321576532; Training Accuracy :68.14102564102565; Validation Loss :12.976706960262396; Validation Accuracy :26.794871794871796 \n",
            "Epoch : 13/50.....Training Loss :13.33526000762597; Training Accuracy :68.14102564102565; Validation Loss :110.0611067047486; Validation Accuracy :26.794871794871796 \n",
            "Epoch : 14/50.....Training Loss :19.974532043322537; Training Accuracy :68.14102564102565; Validation Loss :13.14327651109451; Validation Accuracy :26.794871794871796 \n",
            "Epoch : 15/50.....Training Loss :26.95885470853402; Training Accuracy :67.62820512820514; Validation Loss :26.718051204314598; Validation Accuracy :26.794871794871796 \n",
            "Epoch : 16/50.....Training Loss :15.908539264630047; Training Accuracy :68.14102564102565; Validation Loss :29.083868830631943; Validation Accuracy :26.794871794871796 \n",
            "Epoch : 17/50.....Training Loss :15.670063621722734; Training Accuracy :68.14102564102565; Validation Loss :53.95883149061448; Validation Accuracy :26.794871794871796 \n",
            "Epoch : 18/50.....Training Loss :16.444020038231823; Training Accuracy :68.14102564102565; Validation Loss :367.9691241108454; Validation Accuracy :26.794871794871796 \n",
            "Epoch : 19/50.....Training Loss :17.32086148017492; Training Accuracy :68.14102564102565; Validation Loss :13.522118345285072; Validation Accuracy :26.794871794871796 \n",
            "Epoch : 20/50.....Training Loss :14.27025061005201; Training Accuracy :68.14102564102565; Validation Loss :81.39142429026273; Validation Accuracy :26.794871794871796 \n",
            "Epoch : 21/50.....Training Loss :21.209831008544334; Training Accuracy :68.14102564102565; Validation Loss :7.907036741574605; Validation Accuracy :26.794871794871796 \n",
            "Epoch : 22/50.....Training Loss :14.328517615795135; Training Accuracy :68.14102564102565; Validation Loss :179.80343034634222; Validation Accuracy :26.794871794871796 \n",
            "Epoch : 23/50.....Training Loss :20.256452690332363; Training Accuracy :67.88461538461539; Validation Loss :24.31215077638626; Validation Accuracy :26.794871794871796 \n",
            "Epoch : 24/50.....Training Loss :15.212926746178896; Training Accuracy :68.14102564102565; Validation Loss :14.003533537571247; Validation Accuracy :26.794871794871796 \n",
            "Epoch : 25/50.....Training Loss :13.080938087824062; Training Accuracy :68.14102564102565; Validation Loss :51.333251645167664; Validation Accuracy :26.794871794871796 \n",
            "Epoch : 26/50.....Training Loss :13.204020452805054; Training Accuracy :68.14102564102565; Validation Loss :14.213092067302801; Validation Accuracy :26.794871794871796 \n",
            "Epoch : 27/50.....Training Loss :13.53885005395382; Training Accuracy :68.14102564102565; Validation Loss :214.69411989578452; Validation Accuracy :26.794871794871796 \n",
            "Epoch : 28/50.....Training Loss :14.897883383509441; Training Accuracy :68.14102564102565; Validation Loss :131.68877499989975; Validation Accuracy :26.794871794871796 \n",
            "Epoch : 29/50.....Training Loss :19.146214723587036; Training Accuracy :68.14102564102565; Validation Loss :15.350481195327564; Validation Accuracy :26.794871794871796 \n",
            "Epoch : 30/50.....Training Loss :16.597952707073627; Training Accuracy :68.14102564102565; Validation Loss :76.14805437051334; Validation Accuracy :26.794871794871796 \n",
            "Epoch : 31/50.....Training Loss :15.62096986728601; Training Accuracy :68.14102564102565; Validation Loss :58.80269412046823; Validation Accuracy :26.794871794871796 \n",
            "Epoch : 32/50.....Training Loss :15.492839423509745; Training Accuracy :68.14102564102565; Validation Loss :24.809346153185917; Validation Accuracy :26.794871794871796 \n",
            "Epoch : 33/50.....Training Loss :14.119281799365313; Training Accuracy :68.14102564102565; Validation Loss :41.515087959093925; Validation Accuracy :26.794871794871796 \n",
            "Epoch : 34/50.....Training Loss :12.858441051764366; Training Accuracy :68.14102564102565; Validation Loss :205.26926442216603; Validation Accuracy :26.794871794871796 \n",
            "Epoch : 35/50.....Training Loss :12.291094351273317; Training Accuracy :68.14102564102565; Validation Loss :297.8558860757412; Validation Accuracy :26.794871794871796 \n",
            "Epoch : 36/50.....Training Loss :31.42362040013839; Training Accuracy :68.07692307692308; Validation Loss :295.43077030529577; Validation Accuracy :26.794871794871796 \n",
            "Epoch : 37/50.....Training Loss :18.083016763274102; Training Accuracy :68.14102564102565; Validation Loss :139.76943735892957; Validation Accuracy :26.794871794871796 \n",
            "Epoch : 38/50.....Training Loss :12.384557062998796; Training Accuracy :68.14102564102565; Validation Loss :452.07901925612714; Validation Accuracy :26.794871794871796 \n",
            "Epoch : 39/50.....Training Loss :13.279975981284412; Training Accuracy :68.14102564102565; Validation Loss :70.85506950433438; Validation Accuracy :26.794871794871796 \n",
            "Epoch : 40/50.....Training Loss :13.673169356890213; Training Accuracy :68.14102564102565; Validation Loss :68.7579808326868; Validation Accuracy :26.794871794871796 \n",
            "Epoch : 41/50.....Training Loss :14.43012894728245; Training Accuracy :68.14102564102565; Validation Loss :475.72297118413144; Validation Accuracy :26.794871794871796 \n",
            "Epoch : 42/50.....Training Loss :14.50282545425953; Training Accuracy :68.14102564102565; Validation Loss :269.46732746102873; Validation Accuracy :26.794871794871796 \n",
            "Epoch : 43/50.....Training Loss :14.085705819038244; Training Accuracy :68.07692307692308; Validation Loss :617.7508057367344; Validation Accuracy :26.794871794871796 \n",
            "Epoch : 44/50.....Training Loss :14.044774915927496; Training Accuracy :68.14102564102565; Validation Loss :4589.2173510178545; Validation Accuracy :26.794871794871796 \n",
            "Epoch : 45/50.....Training Loss :12.409904656501917; Training Accuracy :68.14102564102565; Validation Loss :4933.140125505817; Validation Accuracy :26.794871794871796 \n",
            "Epoch : 46/50.....Training Loss :11.521516197767014; Training Accuracy :68.14102564102565; Validation Loss :4401.728123040535; Validation Accuracy :26.794871794871796 \n",
            "Epoch : 47/50.....Training Loss :11.292493973787014; Training Accuracy :68.14102564102565; Validation Loss :3832.5740284912094; Validation Accuracy :26.794871794871796 \n",
            "Epoch : 48/50.....Training Loss :12.9005133608977; Training Accuracy :68.14102564102565; Validation Loss :5075.437906251695; Validation Accuracy :26.794871794871796 \n",
            "Epoch : 49/50.....Training Loss :11.834370555021824; Training Accuracy :68.14102564102565; Validation Loss :4865.688019490395; Validation Accuracy :26.794871794871796 \n",
            "Epoch : 50/50.....Training Loss :11.459377446235756; Training Accuracy :68.14102564102565; Validation Loss :5044.627475234179; Validation Accuracy :26.794871794871796 \n",
            "Training is complete...\n",
            "--201.91990160942078 seconds\n"
          ]
        }
      ]
    },
    {
      "cell_type": "code",
      "source": [
        "\n",
        "plt.plot(trainArr, label='training loss')\n",
        "plt.plot(validArr, label='validation loss')\n",
        "plt.title('Loss at the end of each epoch')\n",
        "plt.legend();"
      ],
      "metadata": {
        "id": "lS3ob3qicuAC",
        "colab": {
          "base_uri": "https://localhost:8080/",
          "height": 281
        },
        "outputId": "af54cced-0f86-4e0c-da2e-35810ad99259"
      },
      "execution_count": 26,
      "outputs": [
        {
          "output_type": "display_data",
          "data": {
            "text/plain": [
              "<Figure size 432x288 with 1 Axes>"
            ],
            "image/png": "[encoded data removed]"
          },
          "metadata": {
            "needs_background": "light"
          }
        }
      ]
    },
    {
      "cell_type": "code",
      "source": [],
      "metadata": {
        "id": "4wlsFGCDhg87"
      },
      "execution_count": null,
      "outputs": []
    }
  ]
}